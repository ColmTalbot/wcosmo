{
 "cells": [
  {
   "cell_type": "markdown",
   "metadata": {
    "colab_type": "text",
    "id": "view-in-github"
   },
   "source": [
    "<a href=\"https://colab.research.google.com/github/ColmTalbot/wcosmo/blob/timing-notebook/examples/wcosmo_timing.ipynb\" target=\"_parent\"><img src=\"https://colab.research.google.com/assets/colab-badge.svg\" alt=\"Open In Colab\"/></a>"
   ]
  },
  {
   "cell_type": "markdown",
   "metadata": {
    "id": "nHKQkswiTuBQ"
   },
   "source": [
    "## Compare `wcosmo` and `astropy` timing.\n",
    "\n",
    "The two primary pieces of functionality we use are converting from luminosity distance to redshift, calculating the distance to redshift jacobian, and calculating the differential comoving volume.\n",
    "\n",
    "Timing the `wcosmo` implementation is non trivial as we rely on JIT compilation and also need to make sure we wait until the evaluation is complete.\n",
    "The steps are:\n",
    "\n",
    "- jit compile a wrapper function to call.\n",
    "- burn an evaluation for the compilation.\n",
    "- run the function and use `block_until_ready` to ensure we get the full time.\n",
    "\n",
    "We also time `wcosmo` with the `numpy` and `cupy` backends.\n",
    "Note that `cupy` also requires burning a call to compile the underlying `CUDA` code.\n",
    "\n",
    "We manually switch backends, although this can be done automatically using `GWPopulation`."
   ]
  },
  {
   "cell_type": "code",
   "execution_count": 1,
   "metadata": {
    "id": "kcb71ObqYwC8"
   },
   "outputs": [],
   "source": [
    "!pip install wcosmo --quiet --progress-bar off"
   ]
  },
  {
   "cell_type": "code",
   "execution_count": 2,
   "metadata": {
    "id": "z-o1RrCPdXRz"
   },
   "outputs": [],
   "source": [
    "import numpy as np\n",
    "import wcosmo\n",
    "\n",
    "\n",
    "def set_backend(backend):\n",
    "    from importlib import import_module\n",
    "\n",
    "    np_modules = dict(\n",
    "        numpy=\"numpy\",\n",
    "        jax=\"jax.numpy\",\n",
    "        cupy=\"cupy\",\n",
    "    )\n",
    "    linalg_modules = dict(\n",
    "        numpy=\"scipy.linalg\",\n",
    "        jax=\"jax.scipy.linalg\",\n",
    "        cupy=\"cupyx.scipy.linalg\",\n",
    "    )\n",
    "    setattr(wcosmo.wcosmo, \"xp\", import_module(np_modules[backend]))\n",
    "    setattr(wcosmo.utils, \"xp\", import_module(np_modules[backend]))\n",
    "    toeplitz = getattr(import_module(linalg_modules[backend]), \"toeplitz\")\n",
    "    setattr(wcosmo.utils, \"toeplitz\", toeplitz)\n",
    "\n",
    "\n",
    "ndata = np.random.uniform(1, 10, 1000000)"
   ]
  },
  {
   "cell_type": "markdown",
   "metadata": {
    "id": "dseFs4ZVXXNu"
   },
   "source": [
    "### wcosmo + jax + GPU"
   ]
  },
  {
   "cell_type": "code",
   "execution_count": 3,
   "metadata": {
    "id": "IY_u2ZI3PRua"
   },
   "outputs": [],
   "source": [
    "import jax.numpy as jnp\n",
    "import numpy as np\n",
    "from jax import jit\n",
    "\n",
    "\n",
    "set_backend(\"jax\")\n",
    "\n",
    "jdata = jnp.array(ndata)\n",
    "\n",
    "\n",
    "@jit\n",
    "def time_jax_redshift(jdata):\n",
    "    return wcosmo.z_at_value(wcosmo.FlatwCDM(67, 0.3, -1).luminosity_distance, jdata)\n",
    "\n",
    "\n",
    "@jit\n",
    "def time_jax_dvcdz(jdata):\n",
    "    return wcosmo.FlatwCDM(67, 0.3, -1).differential_comoving_volume(jdata)\n",
    "\n",
    "\n",
    "burn_vals = time_jax_redshift(jdata)\n",
    "burn_vals = time_jax_dvcdz(jdata)"
   ]
  },
  {
   "cell_type": "code",
   "execution_count": 4,
   "metadata": {
    "colab": {
     "base_uri": "https://localhost:8080/"
    },
    "id": "xjppj7LCPU_B",
    "outputId": "fb0c6ff9-96e6-4771-cb6b-67f1d5e40b85"
   },
   "outputs": [
    {
     "name": "stdout",
     "output_type": "stream",
     "text": [
      "CPU times: user 1.56 ms, sys: 0 ns, total: 1.56 ms\n",
      "Wall time: 4.83 ms\n"
     ]
    }
   ],
   "source": [
    "%%time\n",
    "\n",
    "_ = time_jax_redshift(jdata).block_until_ready()"
   ]
  },
  {
   "cell_type": "code",
   "execution_count": 5,
   "metadata": {
    "colab": {
     "base_uri": "https://localhost:8080/"
    },
    "id": "JgS3_9RVU1nH",
    "outputId": "ce2f0c85-0161-4f45-9cd7-3494077e7a83"
   },
   "outputs": [
    {
     "name": "stdout",
     "output_type": "stream",
     "text": [
      "CPU times: user 632 µs, sys: 173 µs, total: 805 µs\n",
      "Wall time: 3.69 ms\n"
     ]
    }
   ],
   "source": [
    "%%time\n",
    "\n",
    "_ = time_jax_dvcdz(jdata).block_until_ready()"
   ]
  },
  {
   "cell_type": "markdown",
   "metadata": {
    "id": "ozTDHo9iXgWi"
   },
   "source": [
    "### astropy + cpu\n",
    "\n",
    "Note that this is very slow in this case so we only use one percent of the full data.\n",
    "Since this is `numpy`-based the time scales linearly with the amount of data.\n",
    "\n",
    "In practice, most people when using `astropy` use intepolation to evaluate `z_at_value` at many points as is done in `wcosmo`."
   ]
  },
  {
   "cell_type": "code",
   "execution_count": 6,
   "metadata": {
    "id": "_kOnSJMbXn9Q"
   },
   "outputs": [],
   "source": [
    "from astropy import cosmology, units"
   ]
  },
  {
   "cell_type": "code",
   "execution_count": 7,
   "metadata": {
    "colab": {
     "base_uri": "https://localhost:8080/"
    },
    "id": "V-mMVWAhPgfp",
    "outputId": "2272fbab-0bdb-4cad-be8d-65bb6ecc249e"
   },
   "outputs": [
    {
     "name": "stdout",
     "output_type": "stream",
     "text": [
      "CPU times: user 40.9 s, sys: 418 ms, total: 41.3 s\n",
      "Wall time: 52 s\n"
     ]
    }
   ],
   "source": [
    "%%time\n",
    "\n",
    "_ = cosmology.z_at_value(\n",
    "    cosmology.FlatwCDM(67, 0.3, -1).luminosity_distance,\n",
    "    ndata[:10000] * units.Mpc,\n",
    ").value"
   ]
  },
  {
   "cell_type": "code",
   "execution_count": 8,
   "metadata": {
    "colab": {
     "base_uri": "https://localhost:8080/"
    },
    "id": "vF6Ab5jMVBdX",
    "outputId": "3f176351-bd05-4a09-f665-183cecb2e105"
   },
   "outputs": [
    {
     "name": "stdout",
     "output_type": "stream",
     "text": [
      "CPU times: user 106 ms, sys: 27 µs, total: 106 ms\n",
      "Wall time: 107 ms\n"
     ]
    }
   ],
   "source": [
    "%%time\n",
    "\n",
    "_ = (\n",
    "    cosmology.FlatwCDM(67, 0.3, -1)\n",
    "    .differential_comoving_volume(\n",
    "        ndata[:10000],\n",
    "    )\n",
    "    .value\n",
    ")"
   ]
  },
  {
   "cell_type": "markdown",
   "metadata": {
    "id": "3KTFoNDkXzTp"
   },
   "source": [
    "### wcosmo + numpy + cpu"
   ]
  },
  {
   "cell_type": "code",
   "execution_count": 9,
   "metadata": {
    "id": "qGl50ks_PpGQ"
   },
   "outputs": [],
   "source": [
    "set_backend(\"numpy\")"
   ]
  },
  {
   "cell_type": "code",
   "execution_count": 10,
   "metadata": {
    "colab": {
     "base_uri": "https://localhost:8080/"
    },
    "id": "bQl0yn4uVSXp",
    "outputId": "6901b6ba-de14-43b0-dca7-6909127dfed9"
   },
   "outputs": [
    {
     "name": "stdout",
     "output_type": "stream",
     "text": [
      "CPU times: user 89.5 ms, sys: 75.2 ms, total: 165 ms\n",
      "Wall time: 86.7 ms\n"
     ]
    }
   ],
   "source": [
    "%%time\n",
    "\n",
    "_ = wcosmo.z_at_value(wcosmo.FlatwCDM(67, 0.3, -1).luminosity_distance, ndata)"
   ]
  },
  {
   "cell_type": "code",
   "execution_count": 11,
   "metadata": {
    "colab": {
     "base_uri": "https://localhost:8080/"
    },
    "id": "XjsGLM2sVXC-",
    "outputId": "1fc8817c-a0a1-44fa-dcf0-05b8f724b76f"
   },
   "outputs": [
    {
     "name": "stdout",
     "output_type": "stream",
     "text": [
      "CPU times: user 65.8 ms, sys: 89.1 ms, total: 155 ms\n",
      "Wall time: 79.4 ms\n"
     ]
    }
   ],
   "source": [
    "%%time\n",
    "\n",
    "_ = wcosmo.FlatwCDM(67, 0.3, -1).differential_comoving_volume(ndata)"
   ]
  },
  {
   "cell_type": "markdown",
   "metadata": {
    "id": "Vn27QdGSYC3Q"
   },
   "source": [
    "### wcosmo + cupy + gpu\n",
    "\n",
    "The final test is using the `cupy` backend on the GPU.\n",
    "Typically this is much faster than `numpy` but slower than the `JAX` GPU code.\n",
    "Especially, not tested here is transfer between CPU/GPU which can be quite slow for `cupy`."
   ]
  },
  {
   "cell_type": "code",
   "execution_count": 12,
   "metadata": {
    "id": "wU3XF5PpVbwn"
   },
   "outputs": [],
   "source": [
    "import cupy\n",
    "\n",
    "set_backend(\"cupy\")\n",
    "\n",
    "cdata = cupy.asarray(ndata)\n",
    "\n",
    "_ = wcosmo.z_at_value(wcosmo.FlatwCDM(67, 0.3, -1).luminosity_distance, cdata)\n",
    "_ = wcosmo.FlatwCDM(67, 0.3, -1).differential_comoving_volume(cdata)"
   ]
  },
  {
   "cell_type": "code",
   "execution_count": 13,
   "metadata": {
    "colab": {
     "base_uri": "https://localhost:8080/"
    },
    "id": "Q4LUkMDuWDsk",
    "outputId": "a874883f-54e6-41e0-c8fc-50ce7a05039e"
   },
   "outputs": [
    {
     "name": "stdout",
     "output_type": "stream",
     "text": [
      "CPU times: user 5.42 ms, sys: 17 µs, total: 5.44 ms\n",
      "Wall time: 5.45 ms\n"
     ]
    }
   ],
   "source": [
    "%%time\n",
    "\n",
    "_ = wcosmo.z_at_value(wcosmo.FlatwCDM(67, 0.3, -1).luminosity_distance, cdata)\n",
    "cupy.cuda.stream.get_current_stream().synchronize()"
   ]
  },
  {
   "cell_type": "code",
   "execution_count": 14,
   "metadata": {
    "colab": {
     "base_uri": "https://localhost:8080/"
    },
    "id": "BCr3UfbaWEgJ",
    "outputId": "fefccd5c-5683-4e66-ecb0-d6635d1e5f80"
   },
   "outputs": [
    {
     "name": "stdout",
     "output_type": "stream",
     "text": [
      "CPU times: user 73.6 ms, sys: 0 ns, total: 73.6 ms\n",
      "Wall time: 83.6 ms\n"
     ]
    }
   ],
   "source": [
    "%%time\n",
    "\n",
    "_ = wcosmo.FlatwCDM(67, 0.3, -1).differential_comoving_volume(cdata)\n",
    "cupy.cuda.stream.get_current_stream().synchronize()"
   ]
  },
  {
   "cell_type": "code",
   "execution_count": null,
   "metadata": {
    "id": "TjD_9bTFboru"
   },
   "outputs": [],
   "source": []
  }
 ],
 "metadata": {
  "accelerator": "GPU",
  "colab": {
   "authorship_tag": "ABX9TyMZiQw19pYNdaeM1UKzfEd7",
   "gpuType": "T4",
   "include_colab_link": true,
   "provenance": []
  },
  "kernelspec": {
   "display_name": "Python 3",
   "name": "python3"
  },
  "language_info": {
   "name": "python"
  }
 },
 "nbformat": 4,
 "nbformat_minor": 0
}