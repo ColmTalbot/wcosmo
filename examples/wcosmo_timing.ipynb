{
  "nbformat": 4,
  "nbformat_minor": 0,
  "metadata": {
    "colab": {
      "provenance": [],
      "gpuType": "T4",
      "authorship_tag": "ABX9TyN7Jbhw3sOcBSOceE9yo03z",
      "include_colab_link": true
    },
    "kernelspec": {
      "name": "python3",
      "display_name": "Python 3"
    },
    "language_info": {
      "name": "python"
    },
    "accelerator": "GPU"
  },
  "cells": [
    {
      "cell_type": "markdown",
      "metadata": {
        "id": "view-in-github",
        "colab_type": "text"
      },
      "source": [
        "<a href=\"https://colab.research.google.com/github/ColmTalbot/wcosmo/blob/timing-notebook/examples/wcosmo_timing.ipynb\" target=\"_parent\"><img src=\"https://colab.research.google.com/assets/colab-badge.svg\" alt=\"Open In Colab\"/></a>"
      ]
    },
    {
      "cell_type": "code",
      "execution_count": null,
      "metadata": {
        "colab": {
          "base_uri": "https://localhost:8080/"
        },
        "id": "kcb71ObqYwC8",
        "outputId": "09a5fe9e-74c6-416f-a36e-ec58beabacfe"
      },
      "outputs": [
        {
          "output_type": "stream",
          "name": "stdout",
          "text": [
            "Collecting git+https://github.com/ColmTalbot/wcosmo.git\n",
            "  Cloning https://github.com/ColmTalbot/wcosmo.git to /tmp/pip-req-build-aitnw024\n",
            "  Running command git clone --filter=blob:none --quiet https://github.com/ColmTalbot/wcosmo.git /tmp/pip-req-build-aitnw024\n",
            "  Resolved https://github.com/ColmTalbot/wcosmo.git to commit 7a44bce6fce29e1aa35007cf1a97b0747106c104\n",
            "  Installing build dependencies ... \u001b[?25l\u001b[?25hdone\n",
            "  Getting requirements to build wheel ... \u001b[?25l\u001b[?25hdone\n",
            "  Installing backend dependencies ... \u001b[?25l\u001b[?25hdone\n",
            "  Preparing metadata (pyproject.toml) ... \u001b[?25l\u001b[?25hdone\n",
            "Requirement already satisfied: gwpopulation in /usr/local/lib/python3.10/dist-packages (from wcosmo==0.0.0) (1.0.0)\n",
            "Requirement already satisfied: numpy in /usr/local/lib/python3.10/dist-packages (from wcosmo==0.0.0) (1.25.2)\n",
            "Requirement already satisfied: scipy in /usr/local/lib/python3.10/dist-packages (from gwpopulation->wcosmo==0.0.0) (1.11.4)\n",
            "Requirement already satisfied: pandas in /usr/local/lib/python3.10/dist-packages (from gwpopulation->wcosmo==0.0.0) (2.0.3)\n",
            "Requirement already satisfied: tqdm in /usr/local/lib/python3.10/dist-packages (from gwpopulation->wcosmo==0.0.0) (4.66.4)\n",
            "Requirement already satisfied: astropy in /usr/local/lib/python3.10/dist-packages (from gwpopulation->wcosmo==0.0.0) (5.3.4)\n",
            "Requirement already satisfied: bilby>=2.2.0 in /usr/local/lib/python3.10/dist-packages (from gwpopulation->wcosmo==0.0.0) (2.2.3)\n",
            "Requirement already satisfied: cached-interpolate in /usr/local/lib/python3.10/dist-packages (from gwpopulation->wcosmo==0.0.0) (0.2.0)\n",
            "Requirement already satisfied: bilby.cython>=0.3.0 in /usr/local/lib/python3.10/dist-packages (from bilby>=2.2.0->gwpopulation->wcosmo==0.0.0) (0.5.2)\n",
            "Requirement already satisfied: dynesty>=2.0.1 in /usr/local/lib/python3.10/dist-packages (from bilby>=2.2.0->gwpopulation->wcosmo==0.0.0) (2.1.3)\n",
            "Requirement already satisfied: emcee in /usr/local/lib/python3.10/dist-packages (from bilby>=2.2.0->gwpopulation->wcosmo==0.0.0) (3.1.6)\n",
            "Requirement already satisfied: corner in /usr/local/lib/python3.10/dist-packages (from bilby>=2.2.0->gwpopulation->wcosmo==0.0.0) (2.2.2)\n",
            "Requirement already satisfied: matplotlib<3.8.0 in /usr/local/lib/python3.10/dist-packages (from bilby>=2.2.0->gwpopulation->wcosmo==0.0.0) (3.7.1)\n",
            "Requirement already satisfied: dill in /usr/local/lib/python3.10/dist-packages (from bilby>=2.2.0->gwpopulation->wcosmo==0.0.0) (0.3.8)\n",
            "Requirement already satisfied: h5py in /usr/local/lib/python3.10/dist-packages (from bilby>=2.2.0->gwpopulation->wcosmo==0.0.0) (3.9.0)\n",
            "Requirement already satisfied: attrs in /usr/local/lib/python3.10/dist-packages (from bilby>=2.2.0->gwpopulation->wcosmo==0.0.0) (23.2.0)\n",
            "Requirement already satisfied: pyerfa>=2.0 in /usr/local/lib/python3.10/dist-packages (from astropy->gwpopulation->wcosmo==0.0.0) (2.0.1.4)\n",
            "Requirement already satisfied: PyYAML>=3.13 in /usr/local/lib/python3.10/dist-packages (from astropy->gwpopulation->wcosmo==0.0.0) (6.0.1)\n",
            "Requirement already satisfied: packaging>=19.0 in /usr/local/lib/python3.10/dist-packages (from astropy->gwpopulation->wcosmo==0.0.0) (24.0)\n",
            "Requirement already satisfied: python-dateutil>=2.8.2 in /usr/local/lib/python3.10/dist-packages (from pandas->gwpopulation->wcosmo==0.0.0) (2.8.2)\n",
            "Requirement already satisfied: pytz>=2020.1 in /usr/local/lib/python3.10/dist-packages (from pandas->gwpopulation->wcosmo==0.0.0) (2023.4)\n",
            "Requirement already satisfied: tzdata>=2022.1 in /usr/local/lib/python3.10/dist-packages (from pandas->gwpopulation->wcosmo==0.0.0) (2024.1)\n",
            "Requirement already satisfied: contourpy>=1.0.1 in /usr/local/lib/python3.10/dist-packages (from matplotlib<3.8.0->bilby>=2.2.0->gwpopulation->wcosmo==0.0.0) (1.2.1)\n",
            "Requirement already satisfied: cycler>=0.10 in /usr/local/lib/python3.10/dist-packages (from matplotlib<3.8.0->bilby>=2.2.0->gwpopulation->wcosmo==0.0.0) (0.12.1)\n",
            "Requirement already satisfied: fonttools>=4.22.0 in /usr/local/lib/python3.10/dist-packages (from matplotlib<3.8.0->bilby>=2.2.0->gwpopulation->wcosmo==0.0.0) (4.51.0)\n",
            "Requirement already satisfied: kiwisolver>=1.0.1 in /usr/local/lib/python3.10/dist-packages (from matplotlib<3.8.0->bilby>=2.2.0->gwpopulation->wcosmo==0.0.0) (1.4.5)\n",
            "Requirement already satisfied: pillow>=6.2.0 in /usr/local/lib/python3.10/dist-packages (from matplotlib<3.8.0->bilby>=2.2.0->gwpopulation->wcosmo==0.0.0) (9.4.0)\n",
            "Requirement already satisfied: pyparsing>=2.3.1 in /usr/local/lib/python3.10/dist-packages (from matplotlib<3.8.0->bilby>=2.2.0->gwpopulation->wcosmo==0.0.0) (3.1.2)\n",
            "Requirement already satisfied: six>=1.5 in /usr/local/lib/python3.10/dist-packages (from python-dateutil>=2.8.2->pandas->gwpopulation->wcosmo==0.0.0) (1.16.0)\n"
          ]
        }
      ],
      "source": [
        "!pip install git+https://github.com/ColmTalbot/wcosmo.git"
      ]
    },
    {
      "cell_type": "markdown",
      "source": [
        "## Compare `wcosmo` and `astropy` timing.\n",
        "\n",
        "The two primary pieces of functionality we use are converting from luminosity distance to redshift, calculating the distance to redshift jacobian, and calculating the differential comoving volume.\n",
        "\n",
        "Timing the `wcosmo` implementation is non trivial as we rely on JIT compilation and also need to make sure we wait until the evaluation is complete.\n",
        "The steps are:\n",
        "\n",
        "- jit compile a wrapper function to call.\n",
        "- burn an evaluation for the compilation.\n",
        "- run the function and use `block_until_ready` to ensure we get the full time.\n",
        "\n",
        "We also time `wcosmo` with the `numpy` and `cupy` backends.\n",
        "Note that `cupy` also requires burning a call to compile the underlying `CUDA` code.\n",
        "\n",
        "We manually switch backends, although this can be done automatically using `GWPopulation`."
      ],
      "metadata": {
        "id": "nHKQkswiTuBQ"
      }
    },
    {
      "cell_type": "code",
      "source": [
        "import numpy as np\n",
        "import wcosmo\n",
        "\n",
        "\n",
        "def set_backend(backend):\n",
        "    from importlib import import_module\n",
        "    np_modules = dict(\n",
        "        numpy=\"numpy\",\n",
        "        jax=\"jax.numpy\",\n",
        "        cupy=\"cupy\",\n",
        "    )\n",
        "    linalg_modules = dict(\n",
        "        numpy=\"scipy.linalg\",\n",
        "        jax=\"jax.scipy.linalg\",\n",
        "        cupy=\"cupyx.scipy.linalg\",\n",
        "    )\n",
        "    setattr(wcosmo.wcosmo, \"xp\", import_module(np_modules[backend]))\n",
        "    setattr(wcosmo.utils, \"xp\", import_module(np_modules[backend]))\n",
        "    toeplitz = getattr(import_module(linalg_modules[backend]), \"toeplitz\")\n",
        "    setattr(wcosmo.utils, \"toeplitz\", toeplitz)\n",
        "\n",
        "\n",
        "ndata = np.random.uniform(1, 10, 1000000)"
      ],
      "metadata": {
        "id": "z-o1RrCPdXRz"
      },
      "execution_count": null,
      "outputs": []
    },
    {
      "cell_type": "markdown",
      "source": [
        "### wcosmo + jax + GPU"
      ],
      "metadata": {
        "id": "dseFs4ZVXXNu"
      }
    },
    {
      "cell_type": "code",
      "source": [
        "import jax.numpy as jnp\n",
        "import numpy as np\n",
        "from jax import jit\n",
        "\n",
        "\n",
        "set_backend(\"jax\")\n",
        "\n",
        "jdata = jnp.array(ndata)\n",
        "\n",
        "\n",
        "@jit\n",
        "def time_jax_redshift(jdata):\n",
        "    return wcosmo.z_at_value(wcosmo.FlatwCDM(67, 0.3, -1).luminosity_distance, jdata)\n",
        "\n",
        "\n",
        "@jit\n",
        "def time_jax_dvcdz(jdata):\n",
        "    return wcosmo.FlatwCDM(67, 0.3, -1).differential_comoving_volume(jdata)\n",
        "\n",
        "\n",
        "burn_vals = time_jax_redshift(jdata)\n",
        "burn_vals = time_jax_dvcdz(jdata)"
      ],
      "metadata": {
        "id": "IY_u2ZI3PRua"
      },
      "execution_count": null,
      "outputs": []
    },
    {
      "cell_type": "code",
      "source": [
        "%%time\n",
        "\n",
        "_ = time_jax_redshift(jdata).block_until_ready()"
      ],
      "metadata": {
        "colab": {
          "base_uri": "https://localhost:8080/"
        },
        "id": "xjppj7LCPU_B",
        "outputId": "ad2f0efb-91d2-495b-dda0-1c62d6328c71"
      },
      "execution_count": null,
      "outputs": [
        {
          "output_type": "stream",
          "name": "stdout",
          "text": [
            "CPU times: user 732 µs, sys: 222 µs, total: 954 µs\n",
            "Wall time: 6.78 ms\n"
          ]
        }
      ]
    },
    {
      "cell_type": "code",
      "source": [
        "%%time\n",
        "\n",
        "_ = time_jax_dvcdz(jdata).block_until_ready()"
      ],
      "metadata": {
        "colab": {
          "base_uri": "https://localhost:8080/"
        },
        "id": "JgS3_9RVU1nH",
        "outputId": "d57ef8a9-2b85-4efb-ec7c-d1c8300dd997"
      },
      "execution_count": null,
      "outputs": [
        {
          "output_type": "stream",
          "name": "stdout",
          "text": [
            "CPU times: user 0 ns, sys: 627 µs, total: 627 µs\n",
            "Wall time: 638 µs\n"
          ]
        }
      ]
    },
    {
      "cell_type": "markdown",
      "source": [
        "### astropy + cpu\n",
        "\n",
        "Note that this is very slow in this case so we only use one percent of the full data.\n",
        "Since this is `numpy`-based the time scales linearly with the amount of data.\n",
        "\n",
        "In practice, most people when using `astropy` use intepolation to evaluate `z_at_value` at many points as is done in `wcosmo`."
      ],
      "metadata": {
        "id": "ozTDHo9iXgWi"
      }
    },
    {
      "cell_type": "code",
      "source": [
        "from astropy import cosmology, units"
      ],
      "metadata": {
        "id": "_kOnSJMbXn9Q"
      },
      "execution_count": null,
      "outputs": []
    },
    {
      "cell_type": "code",
      "source": [
        "%%time\n",
        "\n",
        "_ = cosmology.z_at_value(\n",
        "    cosmology.FlatwCDM(67, 0.3, -1).luminosity_distance,\n",
        "    ndata[:10000] * units.Mpc,\n",
        ").value"
      ],
      "metadata": {
        "colab": {
          "base_uri": "https://localhost:8080/"
        },
        "id": "V-mMVWAhPgfp",
        "outputId": "a9cc9783-47b1-409e-861e-3e6bb73f891b"
      },
      "execution_count": null,
      "outputs": [
        {
          "output_type": "stream",
          "name": "stdout",
          "text": [
            "CPU times: user 35.8 s, sys: 130 ms, total: 36 s\n",
            "Wall time: 43.6 s\n"
          ]
        }
      ]
    },
    {
      "cell_type": "code",
      "source": [
        "%%time\n",
        "\n",
        "_ = cosmology.FlatwCDM(67, 0.3, -1).differential_comoving_volume(\n",
        "    ndata[:10000],\n",
        ").value"
      ],
      "metadata": {
        "colab": {
          "base_uri": "https://localhost:8080/"
        },
        "id": "vF6Ab5jMVBdX",
        "outputId": "c47c4a21-211a-4702-e81a-c57ed6221e15"
      },
      "execution_count": null,
      "outputs": [
        {
          "output_type": "stream",
          "name": "stdout",
          "text": [
            "CPU times: user 177 ms, sys: 942 µs, total: 178 ms\n",
            "Wall time: 181 ms\n"
          ]
        }
      ]
    },
    {
      "cell_type": "markdown",
      "source": [
        "### wcosmo + numpy + cpu"
      ],
      "metadata": {
        "id": "3KTFoNDkXzTp"
      }
    },
    {
      "cell_type": "code",
      "source": [
        "set_backend(\"numpy\")"
      ],
      "metadata": {
        "id": "qGl50ks_PpGQ"
      },
      "execution_count": null,
      "outputs": []
    },
    {
      "cell_type": "code",
      "source": [
        "%%time\n",
        "\n",
        "_ = wcosmo.z_at_value(\n",
        "    wcosmo.FlatwCDM(67, 0.3, -1).luminosity_distance, ndata\n",
        ")"
      ],
      "metadata": {
        "colab": {
          "base_uri": "https://localhost:8080/"
        },
        "id": "bQl0yn4uVSXp",
        "outputId": "b2ccb8a7-2273-4c4c-acbf-ae6982ca9ae8"
      },
      "execution_count": null,
      "outputs": [
        {
          "output_type": "stream",
          "name": "stdout",
          "text": [
            "CPU times: user 75.3 ms, sys: 2.95 ms, total: 78.2 ms\n",
            "Wall time: 92.2 ms\n"
          ]
        }
      ]
    },
    {
      "cell_type": "code",
      "source": [
        "%%time\n",
        "\n",
        "_ = wcosmo.FlatwCDM(67, 0.3, -1).differential_comoving_volume(ndata)"
      ],
      "metadata": {
        "colab": {
          "base_uri": "https://localhost:8080/"
        },
        "id": "XjsGLM2sVXC-",
        "outputId": "a4d96c3c-e97e-45bd-8483-9d38ffedc2bc"
      },
      "execution_count": null,
      "outputs": [
        {
          "output_type": "stream",
          "name": "stdout",
          "text": [
            "CPU times: user 109 ms, sys: 18.9 ms, total: 128 ms\n",
            "Wall time: 130 ms\n"
          ]
        }
      ]
    },
    {
      "cell_type": "markdown",
      "source": [
        "### wcosmo + cupy + gpu\n",
        "\n",
        "The final test is using the `cupy` backend on the GPU.\n",
        "Typically this is much faster than `numpy` but slower than the `JAX` GPU code.\n",
        "Especially, not tested here is transfer between CPU/GPU which can be quite slow for `cupy`."
      ],
      "metadata": {
        "id": "Vn27QdGSYC3Q"
      }
    },
    {
      "cell_type": "code",
      "source": [
        "import cupy\n",
        "\n",
        "set_backend(\"cupy\")\n",
        "\n",
        "cdata = cupy.asarray(ndata)\n",
        "\n",
        "_ = wcosmo.z_at_value(\n",
        "    wcosmo.FlatwCDM(67, 0.3, -1).luminosity_distance, cdata\n",
        ")\n",
        "_ = wcosmo.FlatwCDM(67, 0.3, -1).differential_comoving_volume(cdata)"
      ],
      "metadata": {
        "id": "wU3XF5PpVbwn"
      },
      "execution_count": null,
      "outputs": []
    },
    {
      "cell_type": "code",
      "source": [
        "%%time\n",
        "\n",
        "_ = wcosmo.z_at_value(\n",
        "    wcosmo.FlatwCDM(67, 0.3, -1).luminosity_distance, cdata\n",
        ")\n",
        "cupy.cuda.stream.get_current_stream().synchronize()"
      ],
      "metadata": {
        "colab": {
          "base_uri": "https://localhost:8080/"
        },
        "id": "Q4LUkMDuWDsk",
        "outputId": "9fc00f9e-b143-4a4e-a1b3-311317248082"
      },
      "execution_count": null,
      "outputs": [
        {
          "output_type": "stream",
          "name": "stdout",
          "text": [
            "CPU times: user 8.13 ms, sys: 0 ns, total: 8.13 ms\n",
            "Wall time: 7.54 ms\n"
          ]
        }
      ]
    },
    {
      "cell_type": "code",
      "source": [
        "%%time\n",
        "\n",
        "_ = wcosmo.FlatwCDM(67, 0.3, -1).differential_comoving_volume(cdata)\n",
        "cupy.cuda.stream.get_current_stream().synchronize()"
      ],
      "metadata": {
        "colab": {
          "base_uri": "https://localhost:8080/"
        },
        "id": "BCr3UfbaWEgJ",
        "outputId": "88ec169a-51ad-4ce9-e2cc-5bf622ccea4e"
      },
      "execution_count": null,
      "outputs": [
        {
          "output_type": "stream",
          "name": "stdout",
          "text": [
            "CPU times: user 109 ms, sys: 26 µs, total: 109 ms\n",
            "Wall time: 110 ms\n"
          ]
        }
      ]
    },
    {
      "cell_type": "code",
      "source": [],
      "metadata": {
        "id": "TjD_9bTFboru"
      },
      "execution_count": null,
      "outputs": []
    }
  ]
}