{
  "nbformat": 4,
  "nbformat_minor": 0,
  "metadata": {
    "colab": {
      "provenance": [],
      "gpuType": "T4",
      "authorship_tag": "ABX9TyNU1JJ+xzC1JK9b9iNN6Cfy",
      "include_colab_link": true
    },
    "kernelspec": {
      "name": "python3",
      "display_name": "Python 3"
    },
    "language_info": {
      "name": "python"
    },
    "accelerator": "GPU"
  },
  "cells": [
    {
      "cell_type": "markdown",
      "metadata": {
        "id": "view-in-github",
        "colab_type": "text"
      },
      "source": [
        "<a href=\"https://colab.research.google.com/github/ColmTalbot/wcosmo/blob/timing-notebook/examples/wcosmo_timing.ipynb\" target=\"_parent\"><img src=\"https://colab.research.google.com/assets/colab-badge.svg\" alt=\"Open In Colab\"/></a>"
      ]
    },
    {
      "cell_type": "code",
      "execution_count": 1,
      "metadata": {
        "colab": {
          "base_uri": "https://localhost:8080/"
        },
        "id": "kcb71ObqYwC8",
        "outputId": "c5d44561-44d9-4728-b495-b69e8945ebc4"
      },
      "outputs": [
        {
          "output_type": "stream",
          "name": "stdout",
          "text": [
            "Collecting wcosmo\n",
            "  Downloading wcosmo-0.1.1-py3-none-any.whl (9.4 kB)\n",
            "Collecting gwpopulation (from wcosmo)\n",
            "  Downloading gwpopulation-1.1.0-py3-none-any.whl (32 kB)\n",
            "Requirement already satisfied: numpy in /usr/local/lib/python3.10/dist-packages (from wcosmo) (1.25.2)\n",
            "Requirement already satisfied: scipy in /usr/local/lib/python3.10/dist-packages (from gwpopulation->wcosmo) (1.11.4)\n",
            "Requirement already satisfied: pandas in /usr/local/lib/python3.10/dist-packages (from gwpopulation->wcosmo) (2.0.3)\n",
            "Requirement already satisfied: tqdm in /usr/local/lib/python3.10/dist-packages (from gwpopulation->wcosmo) (4.66.4)\n",
            "Collecting bilby>=2.2.0 (from gwpopulation->wcosmo)\n",
            "  Downloading bilby-2.3.0-py3-none-any.whl (2.3 MB)\n",
            "\u001b[2K     \u001b[90m━━━━━━━━━━━━━━━━━━━━━━━━━━━━━━━━━━━━━━━━\u001b[0m \u001b[32m2.3/2.3 MB\u001b[0m \u001b[31m17.7 MB/s\u001b[0m eta \u001b[36m0:00:00\u001b[0m\n",
            "\u001b[?25hCollecting cached-interpolate (from gwpopulation->wcosmo)\n",
            "  Downloading cached_interpolate-0.2.0-cp310-cp310-manylinux_2_17_x86_64.manylinux2014_x86_64.manylinux_2_24_x86_64.whl (402 kB)\n",
            "\u001b[2K     \u001b[90m━━━━━━━━━━━━━━━━━━━━━━━━━━━━━━━━━━━━━━━━\u001b[0m \u001b[32m402.1/402.1 kB\u001b[0m \u001b[31m23.6 MB/s\u001b[0m eta \u001b[36m0:00:00\u001b[0m\n",
            "\u001b[?25hCollecting bilby.cython>=0.3.0 (from bilby>=2.2.0->gwpopulation->wcosmo)\n",
            "  Downloading bilby.cython-0.5.2-cp310-cp310-manylinux_2_17_x86_64.manylinux2014_x86_64.whl (1.3 MB)\n",
            "\u001b[2K     \u001b[90m━━━━━━━━━━━━━━━━━━━━━━━━━━━━━━━━━━━━━━━━\u001b[0m \u001b[32m1.3/1.3 MB\u001b[0m \u001b[31m30.9 MB/s\u001b[0m eta \u001b[36m0:00:00\u001b[0m\n",
            "\u001b[?25hCollecting dynesty>=2.0.1 (from bilby>=2.2.0->gwpopulation->wcosmo)\n",
            "  Downloading dynesty-2.1.3-py2.py3-none-any.whl (107 kB)\n",
            "\u001b[2K     \u001b[90m━━━━━━━━━━━━━━━━━━━━━━━━━━━━━━━━━━━━━━━━\u001b[0m \u001b[32m107.7/107.7 kB\u001b[0m \u001b[31m16.3 MB/s\u001b[0m eta \u001b[36m0:00:00\u001b[0m\n",
            "\u001b[?25hCollecting emcee (from bilby>=2.2.0->gwpopulation->wcosmo)\n",
            "  Downloading emcee-3.1.6-py2.py3-none-any.whl (47 kB)\n",
            "\u001b[2K     \u001b[90m━━━━━━━━━━━━━━━━━━━━━━━━━━━━━━━━━━━━━━━━\u001b[0m \u001b[32m47.4/47.4 kB\u001b[0m \u001b[31m7.2 MB/s\u001b[0m eta \u001b[36m0:00:00\u001b[0m\n",
            "\u001b[?25hCollecting corner (from bilby>=2.2.0->gwpopulation->wcosmo)\n",
            "  Downloading corner-2.2.2-py3-none-any.whl (15 kB)\n",
            "Requirement already satisfied: matplotlib in /usr/local/lib/python3.10/dist-packages (from bilby>=2.2.0->gwpopulation->wcosmo) (3.7.1)\n",
            "Collecting dill (from bilby>=2.2.0->gwpopulation->wcosmo)\n",
            "  Downloading dill-0.3.8-py3-none-any.whl (116 kB)\n",
            "\u001b[2K     \u001b[90m━━━━━━━━━━━━━━━━━━━━━━━━━━━━━━━━━━━━━━━━\u001b[0m \u001b[32m116.3/116.3 kB\u001b[0m \u001b[31m18.8 MB/s\u001b[0m eta \u001b[36m0:00:00\u001b[0m\n",
            "\u001b[?25hRequirement already satisfied: h5py in /usr/local/lib/python3.10/dist-packages (from bilby>=2.2.0->gwpopulation->wcosmo) (3.9.0)\n",
            "Requirement already satisfied: attrs in /usr/local/lib/python3.10/dist-packages (from bilby>=2.2.0->gwpopulation->wcosmo) (23.2.0)\n",
            "Requirement already satisfied: python-dateutil>=2.8.2 in /usr/local/lib/python3.10/dist-packages (from pandas->gwpopulation->wcosmo) (2.8.2)\n",
            "Requirement already satisfied: pytz>=2020.1 in /usr/local/lib/python3.10/dist-packages (from pandas->gwpopulation->wcosmo) (2023.4)\n",
            "Requirement already satisfied: tzdata>=2022.1 in /usr/local/lib/python3.10/dist-packages (from pandas->gwpopulation->wcosmo) (2024.1)\n",
            "Requirement already satisfied: six>=1.5 in /usr/local/lib/python3.10/dist-packages (from python-dateutil>=2.8.2->pandas->gwpopulation->wcosmo) (1.16.0)\n",
            "Requirement already satisfied: contourpy>=1.0.1 in /usr/local/lib/python3.10/dist-packages (from matplotlib->bilby>=2.2.0->gwpopulation->wcosmo) (1.2.1)\n",
            "Requirement already satisfied: cycler>=0.10 in /usr/local/lib/python3.10/dist-packages (from matplotlib->bilby>=2.2.0->gwpopulation->wcosmo) (0.12.1)\n",
            "Requirement already satisfied: fonttools>=4.22.0 in /usr/local/lib/python3.10/dist-packages (from matplotlib->bilby>=2.2.0->gwpopulation->wcosmo) (4.53.0)\n",
            "Requirement already satisfied: kiwisolver>=1.0.1 in /usr/local/lib/python3.10/dist-packages (from matplotlib->bilby>=2.2.0->gwpopulation->wcosmo) (1.4.5)\n",
            "Requirement already satisfied: packaging>=20.0 in /usr/local/lib/python3.10/dist-packages (from matplotlib->bilby>=2.2.0->gwpopulation->wcosmo) (24.1)\n",
            "Requirement already satisfied: pillow>=6.2.0 in /usr/local/lib/python3.10/dist-packages (from matplotlib->bilby>=2.2.0->gwpopulation->wcosmo) (9.4.0)\n",
            "Requirement already satisfied: pyparsing>=2.3.1 in /usr/local/lib/python3.10/dist-packages (from matplotlib->bilby>=2.2.0->gwpopulation->wcosmo) (3.1.2)\n",
            "Installing collected packages: dynesty, emcee, dill, cached-interpolate, bilby.cython, corner, bilby, gwpopulation, wcosmo\n",
            "Successfully installed bilby-2.3.0 bilby.cython-0.5.2 cached-interpolate-0.2.0 corner-2.2.2 dill-0.3.8 dynesty-2.1.3 emcee-3.1.6 gwpopulation-1.1.0 wcosmo-0.1.1\n"
          ]
        }
      ],
      "source": [
        "!pip install wcosmo"
      ]
    },
    {
      "cell_type": "markdown",
      "source": [
        "## Compare `wcosmo` and `astropy` timing.\n",
        "\n",
        "The two primary pieces of functionality we use are converting from luminosity distance to redshift, calculating the distance to redshift jacobian, and calculating the differential comoving volume.\n",
        "\n",
        "Timing the `wcosmo` implementation is non trivial as we rely on JIT compilation and also need to make sure we wait until the evaluation is complete.\n",
        "The steps are:\n",
        "\n",
        "- jit compile a wrapper function to call.\n",
        "- burn an evaluation for the compilation.\n",
        "- run the function and use `block_until_ready` to ensure we get the full time.\n",
        "\n",
        "We also time `wcosmo` with the `numpy` and `cupy` backends.\n",
        "Note that `cupy` also requires burning a call to compile the underlying `CUDA` code.\n",
        "\n",
        "We manually switch backends, although this can be done automatically using `GWPopulation`."
      ],
      "metadata": {
        "id": "nHKQkswiTuBQ"
      }
    },
    {
      "cell_type": "code",
      "source": [
        "import numpy as np\n",
        "import wcosmo\n",
        "\n",
        "\n",
        "def set_backend(backend):\n",
        "    from importlib import import_module\n",
        "    np_modules = dict(\n",
        "        numpy=\"numpy\",\n",
        "        jax=\"jax.numpy\",\n",
        "        cupy=\"cupy\",\n",
        "    )\n",
        "    linalg_modules = dict(\n",
        "        numpy=\"scipy.linalg\",\n",
        "        jax=\"jax.scipy.linalg\",\n",
        "        cupy=\"cupyx.scipy.linalg\",\n",
        "    )\n",
        "    setattr(wcosmo.wcosmo, \"xp\", import_module(np_modules[backend]))\n",
        "    setattr(wcosmo.utils, \"xp\", import_module(np_modules[backend]))\n",
        "    toeplitz = getattr(import_module(linalg_modules[backend]), \"toeplitz\")\n",
        "    setattr(wcosmo.utils, \"toeplitz\", toeplitz)\n",
        "\n",
        "\n",
        "ndata = np.random.uniform(1, 10, 1000000)"
      ],
      "metadata": {
        "id": "z-o1RrCPdXRz"
      },
      "execution_count": 2,
      "outputs": []
    },
    {
      "cell_type": "markdown",
      "source": [
        "### wcosmo + jax + GPU"
      ],
      "metadata": {
        "id": "dseFs4ZVXXNu"
      }
    },
    {
      "cell_type": "code",
      "source": [
        "import jax.numpy as jnp\n",
        "import numpy as np\n",
        "from jax import jit\n",
        "\n",
        "\n",
        "set_backend(\"jax\")\n",
        "\n",
        "jdata = jnp.array(ndata)\n",
        "\n",
        "\n",
        "@jit\n",
        "def time_jax_redshift(jdata):\n",
        "    return wcosmo.z_at_value(wcosmo.FlatwCDM(67, 0.3, -1).luminosity_distance, jdata)\n",
        "\n",
        "\n",
        "@jit\n",
        "def time_jax_dvcdz(jdata):\n",
        "    return wcosmo.FlatwCDM(67, 0.3, -1).differential_comoving_volume(jdata)\n",
        "\n",
        "\n",
        "burn_vals = time_jax_redshift(jdata)\n",
        "burn_vals = time_jax_dvcdz(jdata)"
      ],
      "metadata": {
        "id": "IY_u2ZI3PRua"
      },
      "execution_count": 3,
      "outputs": []
    },
    {
      "cell_type": "code",
      "source": [
        "%%time\n",
        "\n",
        "_ = time_jax_redshift(jdata).block_until_ready()"
      ],
      "metadata": {
        "colab": {
          "base_uri": "https://localhost:8080/"
        },
        "id": "xjppj7LCPU_B",
        "outputId": "41af7be8-f661-4fdd-ee14-cfc43fd675f1"
      },
      "execution_count": 4,
      "outputs": [
        {
          "output_type": "stream",
          "name": "stdout",
          "text": [
            "CPU times: user 1.78 ms, sys: 0 ns, total: 1.78 ms\n",
            "Wall time: 2.43 ms\n"
          ]
        }
      ]
    },
    {
      "cell_type": "code",
      "source": [
        "%%time\n",
        "\n",
        "_ = time_jax_dvcdz(jdata).block_until_ready()"
      ],
      "metadata": {
        "colab": {
          "base_uri": "https://localhost:8080/"
        },
        "id": "JgS3_9RVU1nH",
        "outputId": "37d5ba08-f376-4b07-880b-2dc84be45d3f"
      },
      "execution_count": 5,
      "outputs": [
        {
          "output_type": "stream",
          "name": "stdout",
          "text": [
            "CPU times: user 1.52 ms, sys: 0 ns, total: 1.52 ms\n",
            "Wall time: 1.42 ms\n"
          ]
        }
      ]
    },
    {
      "cell_type": "markdown",
      "source": [
        "### astropy + cpu\n",
        "\n",
        "Note that this is very slow in this case so we only use one percent of the full data.\n",
        "Since this is `numpy`-based the time scales linearly with the amount of data.\n",
        "\n",
        "In practice, most people when using `astropy` use intepolation to evaluate `z_at_value` at many points as is done in `wcosmo`."
      ],
      "metadata": {
        "id": "ozTDHo9iXgWi"
      }
    },
    {
      "cell_type": "code",
      "source": [
        "from astropy import cosmology, units"
      ],
      "metadata": {
        "id": "_kOnSJMbXn9Q"
      },
      "execution_count": 6,
      "outputs": []
    },
    {
      "cell_type": "code",
      "source": [
        "%%time\n",
        "\n",
        "_ = cosmology.z_at_value(\n",
        "    cosmology.FlatwCDM(67, 0.3, -1).luminosity_distance,\n",
        "    ndata[:10000] * units.Mpc,\n",
        ").value"
      ],
      "metadata": {
        "colab": {
          "base_uri": "https://localhost:8080/"
        },
        "id": "V-mMVWAhPgfp",
        "outputId": "cd9b195f-eca9-40ae-efdf-8ed94de6b02b"
      },
      "execution_count": 7,
      "outputs": [
        {
          "output_type": "stream",
          "name": "stdout",
          "text": [
            "CPU times: user 32.6 s, sys: 79.3 ms, total: 32.7 s\n",
            "Wall time: 32.9 s\n"
          ]
        }
      ]
    },
    {
      "cell_type": "code",
      "source": [
        "%%time\n",
        "\n",
        "_ = cosmology.FlatwCDM(67, 0.3, -1).differential_comoving_volume(\n",
        "    ndata[:10000],\n",
        ").value"
      ],
      "metadata": {
        "colab": {
          "base_uri": "https://localhost:8080/"
        },
        "id": "vF6Ab5jMVBdX",
        "outputId": "ce2befd6-6bff-40f3-dbcb-5fecaa71811f"
      },
      "execution_count": 8,
      "outputs": [
        {
          "output_type": "stream",
          "name": "stdout",
          "text": [
            "CPU times: user 103 ms, sys: 0 ns, total: 103 ms\n",
            "Wall time: 104 ms\n"
          ]
        }
      ]
    },
    {
      "cell_type": "markdown",
      "source": [
        "### wcosmo + numpy + cpu"
      ],
      "metadata": {
        "id": "3KTFoNDkXzTp"
      }
    },
    {
      "cell_type": "code",
      "source": [
        "set_backend(\"numpy\")"
      ],
      "metadata": {
        "id": "qGl50ks_PpGQ"
      },
      "execution_count": 9,
      "outputs": []
    },
    {
      "cell_type": "code",
      "source": [
        "%%time\n",
        "\n",
        "_ = wcosmo.z_at_value(\n",
        "    wcosmo.FlatwCDM(67, 0.3, -1).luminosity_distance, ndata\n",
        ")"
      ],
      "metadata": {
        "colab": {
          "base_uri": "https://localhost:8080/"
        },
        "id": "bQl0yn4uVSXp",
        "outputId": "54863d0a-35d2-4c5b-ae96-9a63b798c9e5"
      },
      "execution_count": 10,
      "outputs": [
        {
          "output_type": "stream",
          "name": "stdout",
          "text": [
            "CPU times: user 81.4 ms, sys: 64 ms, total: 145 ms\n",
            "Wall time: 80.9 ms\n"
          ]
        }
      ]
    },
    {
      "cell_type": "code",
      "source": [
        "%%time\n",
        "\n",
        "_ = wcosmo.FlatwCDM(67, 0.3, -1).differential_comoving_volume(ndata)"
      ],
      "metadata": {
        "colab": {
          "base_uri": "https://localhost:8080/"
        },
        "id": "XjsGLM2sVXC-",
        "outputId": "38a6bde5-3081-4b76-ccb3-0cc079b2d8aa"
      },
      "execution_count": 11,
      "outputs": [
        {
          "output_type": "stream",
          "name": "stdout",
          "text": [
            "CPU times: user 74.6 ms, sys: 75.1 ms, total: 150 ms\n",
            "Wall time: 93.8 ms\n"
          ]
        }
      ]
    },
    {
      "cell_type": "markdown",
      "source": [
        "### wcosmo + cupy + gpu\n",
        "\n",
        "The final test is using the `cupy` backend on the GPU.\n",
        "Typically this is much faster than `numpy` but slower than the `JAX` GPU code.\n",
        "Especially, not tested here is transfer between CPU/GPU which can be quite slow for `cupy`."
      ],
      "metadata": {
        "id": "Vn27QdGSYC3Q"
      }
    },
    {
      "cell_type": "code",
      "source": [
        "import cupy\n",
        "\n",
        "set_backend(\"cupy\")\n",
        "\n",
        "cdata = cupy.asarray(ndata)\n",
        "\n",
        "_ = wcosmo.z_at_value(\n",
        "    wcosmo.FlatwCDM(67, 0.3, -1).luminosity_distance, cdata\n",
        ")\n",
        "_ = wcosmo.FlatwCDM(67, 0.3, -1).differential_comoving_volume(cdata)"
      ],
      "metadata": {
        "id": "wU3XF5PpVbwn"
      },
      "execution_count": 12,
      "outputs": []
    },
    {
      "cell_type": "code",
      "source": [
        "%%time\n",
        "\n",
        "_ = wcosmo.z_at_value(\n",
        "    wcosmo.FlatwCDM(67, 0.3, -1).luminosity_distance, cdata\n",
        ")\n",
        "cupy.cuda.stream.get_current_stream().synchronize()"
      ],
      "metadata": {
        "colab": {
          "base_uri": "https://localhost:8080/"
        },
        "id": "Q4LUkMDuWDsk",
        "outputId": "50ad231e-d511-4d9a-bb4a-9593f2311562"
      },
      "execution_count": 13,
      "outputs": [
        {
          "output_type": "stream",
          "name": "stdout",
          "text": [
            "CPU times: user 6.31 ms, sys: 0 ns, total: 6.31 ms\n",
            "Wall time: 6.73 ms\n"
          ]
        }
      ]
    },
    {
      "cell_type": "code",
      "source": [
        "%%time\n",
        "\n",
        "_ = wcosmo.FlatwCDM(67, 0.3, -1).differential_comoving_volume(cdata)\n",
        "cupy.cuda.stream.get_current_stream().synchronize()"
      ],
      "metadata": {
        "colab": {
          "base_uri": "https://localhost:8080/"
        },
        "id": "BCr3UfbaWEgJ",
        "outputId": "e5d3da12-46bd-4e71-f506-7e1bd5869e8f"
      },
      "execution_count": 14,
      "outputs": [
        {
          "output_type": "stream",
          "name": "stdout",
          "text": [
            "CPU times: user 109 ms, sys: 935 µs, total: 110 ms\n",
            "Wall time: 124 ms\n"
          ]
        }
      ]
    },
    {
      "cell_type": "code",
      "source": [],
      "metadata": {
        "id": "TjD_9bTFboru"
      },
      "execution_count": null,
      "outputs": []
    }
  ]
}